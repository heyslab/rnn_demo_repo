{
 "cells": [
  {
   "cell_type": "code",
   "execution_count": 3,
   "id": "376e429f-4b21-4559-b8b1-9d32a8fa8f37",
   "metadata": {},
   "outputs": [
    {
     "name": "stderr",
     "output_type": "stream",
     "text": [
      "2025-06-02 19:20:06.225035: E external/local_xla/xla/stream_executor/cuda/cuda_fft.cc:485] Unable to register cuFFT factory: Attempting to register factory for plugin cuFFT when one has already been registered\n",
      "2025-06-02 19:20:06.237911: E external/local_xla/xla/stream_executor/cuda/cuda_dnn.cc:8454] Unable to register cuDNN factory: Attempting to register factory for plugin cuDNN when one has already been registered\n",
      "2025-06-02 19:20:06.241805: E external/local_xla/xla/stream_executor/cuda/cuda_blas.cc:1452] Unable to register cuBLAS factory: Attempting to register factory for plugin cuBLAS when one has already been registered\n",
      "2025-06-02 19:20:06.252929: I tensorflow/core/platform/cpu_feature_guard.cc:210] This TensorFlow binary is optimized to use available CPU instructions in performance-critical operations.\n",
      "To enable the following instructions: AVX2 FMA, in other operations, rebuild TensorFlow with the appropriate compiler flags.\n",
      "2025-06-02 19:20:07.019338: W tensorflow/compiler/tf2tensorrt/utils/py_utils.cc:38] TF-TRT Warning: Could not find TensorRT\n"
     ]
    }
   ],
   "source": [
    "import tensorflow as tf\n",
    "\n",
    "from classes.models import LeakyRNNCell, LeakyRNN\n",
    "from classes.datagen import genFactory"
   ]
  },
  {
   "cell_type": "code",
   "execution_count": 7,
   "id": "16e3d297-c47c-46a2-bacd-83f3d258f59c",
   "metadata": {},
   "outputs": [],
   "source": [
    "task = 'just_short_match'\n",
    "params = {\n",
    "    'units': 128,\n",
    "    'activation': 'tanh',\n",
    "    'weights_regularizer_coef': 1e-3,\n",
    "    'activity_regularizer_coef': 1e-3,\n",
    "    'learning_rate': 1e-5,\n",
    "    'noise_level': 0.3,\n",
    "    'input_noise': 0.15,\n",
    "    'gamma': 0.2,\n",
    "    'input_blocks_per_epoch': 1,\n",
    "    'batch_size': 2\n",
    "}"
   ]
  },
  {
   "cell_type": "code",
   "execution_count": 5,
   "id": "d713efa8-48f0-4b87-b877-f749b9f16b60",
   "metadata": {},
   "outputs": [
    {
     "name": "stderr",
     "output_type": "stream",
     "text": [
      "WARNING: All log messages before absl::InitializeLog() is called are written to STDERR\n",
      "I0000 00:00:1748892011.500563 3822335 cuda_executor.cc:1015] successful NUMA node read from SysFS had negative value (-1), but there must be at least one NUMA node, so returning NUMA node zero. See more at https://github.com/torvalds/linux/blob/v6.0/Documentation/ABI/testing/sysfs-bus-pci#L344-L355\n",
      "2025-06-02 19:20:11.502852: W tensorflow/core/common_runtime/gpu/gpu_device.cc:2343] Cannot dlopen some GPU libraries. Please make sure the missing libraries mentioned above are installed properly if you would like to use GPU. Follow the guide at https://www.tensorflow.org/install/gpu for how to download and setup the required libraries for your platform.\n",
      "Skipping registering GPU devices...\n"
     ]
    }
   ],
   "source": [
    "activity_regularizer = tf.keras.regularizers.L2(params['activity_regularizer_coef'])\n",
    "recurrent_regularizer = tf.keras.regularizers.L2(params['activity_regularizer_coef'])\n",
    "kernel_regularizer = tf.keras.regularizers.L2(params['weights_regularizer_coef'])\n",
    "\n",
    "optimizer = tf.keras.optimizers.Adam(params['learning_rate'])\n",
    "\n",
    "model = tf.keras.models.Sequential([\n",
    "    LeakyRNN(params['units'], activation=params['activation'], gamma=params['gamma'],\n",
    "             return_sequences=True, activity_regularizer=activity_regularizer,\n",
    "             recurrent_regularizer=recurrent_regularizer, kernel_regularizer=kernel_regularizer),\n",
    "    tf.keras.layers.Dense(\n",
    "        units=1, activity_regularizer=activity_regularizer,\n",
    "        kernel_regularizer=kernel_regularizer)\n",
    "])\n",
    "model.compile(loss=tf.keras.losses.MeanSquaredError(),\n",
    "             optimizer=optimizer, metrics=[tf.keras.metrics.MeanSquaredError()])  "
   ]
  },
  {
   "cell_type": "code",
   "execution_count": 20,
   "id": "d1bb8642-4f62-441f-a3cf-d4375dc20817",
   "metadata": {},
   "outputs": [
    {
     "name": "stderr",
     "output_type": "stream",
     "text": [
      "2025-06-02 19:35:07.743651: I tensorflow/core/framework/local_rendezvous.cc:404] Local rendezvous is aborting with status: OUT_OF_RANGE: End of sequence\n"
     ]
    }
   ],
   "source": [
    "traingen = genFactory.create(task, params['input_noise'], params['batch_size'], params['input_blocks_per_epoch'])\n",
    "validation_data = traingen.generate_trials(10)\n",
    "formatted_validation = traingen.__class__.format_validation(validation_data)"
   ]
  },
  {
   "cell_type": "code",
   "execution_count": 41,
   "id": "4b6624ee-d9c7-4960-b837-944695d71b8c",
   "metadata": {},
   "outputs": [
    {
     "name": "stdout",
     "output_type": "stream",
     "text": [
      "Epoch 1/3\n",
      "\u001b[1m300/300\u001b[0m \u001b[32m━━━━━━━━━━━━━━━━━━━━\u001b[0m\u001b[37m\u001b[0m \u001b[1m11s\u001b[0m 36ms/step - loss: 0.1576 - mean_squared_error: 0.0368 - val_loss: 0.2059 - val_mean_squared_error: 0.0302\n",
      "Epoch 2/3\n",
      "\u001b[1m300/300\u001b[0m \u001b[32m━━━━━━━━━━━━━━━━━━━━\u001b[0m\u001b[37m\u001b[0m \u001b[1m11s\u001b[0m 37ms/step - loss: 0.1383 - mean_squared_error: 0.0201 - val_loss: 0.1910 - val_mean_squared_error: 0.0301\n",
      "Epoch 3/3\n",
      "\u001b[1m300/300\u001b[0m \u001b[32m━━━━━━━━━━━━━━━━━━━━\u001b[0m\u001b[37m\u001b[0m \u001b[1m11s\u001b[0m 36ms/step - loss: 0.1520 - mean_squared_error: 0.0339 - val_loss: 0.1959 - val_mean_squared_error: 0.0288\n"
     ]
    }
   ],
   "source": [
    "history = model.fit(traingen, validation_data=formatted_validation, epochs=3)"
   ]
  },
  {
   "cell_type": "code",
   "execution_count": 28,
   "id": "18fd5dde-df9f-4dfd-b39d-d7ebc72af32f",
   "metadata": {},
   "outputs": [
    {
     "data": {
      "text/plain": [
       "(1, 8000, 2)"
      ]
     },
     "execution_count": 28,
     "metadata": {},
     "output_type": "execute_result"
    }
   ],
   "source": [
    "history.history['val_mean_squared_error']\n",
    "formatted_validation[0].shape"
   ]
  }
 ],
 "metadata": {
  "kernelspec": {
   "display_name": "keras",
   "language": "python",
   "name": "keras"
  },
  "language_info": {
   "codemirror_mode": {
    "name": "ipython",
    "version": 3
   },
   "file_extension": ".py",
   "mimetype": "text/x-python",
   "name": "python",
   "nbconvert_exporter": "python",
   "pygments_lexer": "ipython3",
   "version": "3.12.2"
  }
 },
 "nbformat": 4,
 "nbformat_minor": 5
}
